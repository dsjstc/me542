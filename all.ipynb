{
 "cells": [
  {
   "cell_type": "code",
   "execution_count": 180,
   "metadata": {},
   "outputs": [
    {
     "name": "stdout",
     "output_type": "stream",
     "text": [
      "The autoreload extension is already loaded. To reload it, use:\n",
      "  %reload_ext autoreload\n"
     ]
    }
   ],
   "source": [
    "%load_ext autoreload"
   ]
  },
  {
   "cell_type": "code",
   "execution_count": 181,
   "metadata": {},
   "outputs": [],
   "source": [
    "from IPython.display import display, HTML\n",
    "from IPython.core.interactiveshell import InteractiveShell\n",
    "InteractiveShell.ast_node_interactivity = \"all\"\n",
    "#InteractiveShell.ast_node_interactivity = \"last\"\n",
    "from importlib import reload\n",
    "import pandas as pd\n",
    "%autoreload 2\n",
    "pd.set_option(\"display.precision\",2)"
   ]
  },
  {
   "cell_type": "code",
   "execution_count": 182,
   "metadata": {},
   "outputs": [
    {
     "data": {
      "text/plain": [
       "<module 'bau' from '/home/at/Dropbox/Exergy/Project/HouseModels/bau.py'>"
      ]
     },
     "execution_count": 182,
     "metadata": {},
     "output_type": "execute_result"
    }
   ],
   "source": [
    "import pandas as pd\n",
    "df = pd.read_pickle(\"irradiance2014.pickle\")['2013']\n",
    "reload(bau)\n"
   ]
  },
  {
   "cell_type": "code",
   "execution_count": null,
   "metadata": {},
   "outputs": [],
   "source": []
  },
  {
   "cell_type": "code",
   "execution_count": 187,
   "metadata": {},
   "outputs": [],
   "source": [
    "import bau\n",
    "import hsolar\n",
    "import hp\n",
    "import tank\n",
    "import boiler\n",
    "\n",
    "# Every combination starts with BAU and ends with boiler.\n",
    "ba = bau.BAU()\n",
    "bo = boiler.Boiler()\n",
    "\n",
    "# Here are the other possible devices\n",
    "devs = [hsolar.HSolar(),\n",
    "        # tank.Tank(),  Very slow!\n",
    "        hp.HP()\n",
    "       ]\n",
    "\n",
    "devnames = []\n",
    "for d in devs:\n",
    "    devnames.append(type(d).__name__)\n",
    "\n",
    "mat = pd.DataFrame(columns=devnames)\n",
    "mat.columns = devnames\n",
    "mat['Cons']=0"
   ]
  },
  {
   "cell_type": "code",
   "execution_count": 189,
   "metadata": {},
   "outputs": [
    {
     "data": {
      "text/plain": [
       "[(),\n",
       " (<hsolar.HSolar at 0x7fbba79bab70>,),\n",
       " (<tank.Tank at 0x7fbba7a57320>,),\n",
       " (<hp.HP at 0x7fbba7a57438>,),\n",
       " (<hsolar.HSolar at 0x7fbba79bab70>, <tank.Tank at 0x7fbba7a57320>),\n",
       " (<hsolar.HSolar at 0x7fbba79bab70>, <hp.HP at 0x7fbba7a57438>),\n",
       " (<tank.Tank at 0x7fbba7a57320>, <hp.HP at 0x7fbba7a57438>),\n",
       " (<hsolar.HSolar at 0x7fbba79bab70>,\n",
       "  <tank.Tank at 0x7fbba7a57320>,\n",
       "  <hp.HP at 0x7fbba7a57438>)]"
      ]
     },
     "execution_count": 189,
     "metadata": {},
     "output_type": "execute_result"
    }
   ],
   "source": [
    "from itertools import combinations\n",
    "namecombos = []\n",
    "devcombos = []\n",
    "for i in range(0,len(devs)+1):\n",
    "    namecombos.extend( combinations(devnames, i)) \n",
    "    devcombos.extend( combinations(devs, i)) \n",
    "    \n",
    "devcombos    "
   ]
  },
  {
   "cell_type": "code",
   "execution_count": 190,
   "metadata": {},
   "outputs": [
    {
     "data": {
      "text/html": [
       "<div>\n",
       "<style scoped>\n",
       "    .dataframe tbody tr th:only-of-type {\n",
       "        vertical-align: middle;\n",
       "    }\n",
       "\n",
       "    .dataframe tbody tr th {\n",
       "        vertical-align: top;\n",
       "    }\n",
       "\n",
       "    .dataframe thead th {\n",
       "        text-align: right;\n",
       "    }\n",
       "</style>\n",
       "<table border=\"1\" class=\"dataframe\">\n",
       "  <thead>\n",
       "    <tr style=\"text-align: right;\">\n",
       "      <th></th>\n",
       "      <th>HSolar</th>\n",
       "      <th>Tank</th>\n",
       "      <th>HP</th>\n",
       "      <th>Cons</th>\n",
       "    </tr>\n",
       "  </thead>\n",
       "  <tbody>\n",
       "  </tbody>\n",
       "</table>\n",
       "</div>"
      ],
      "text/plain": [
       "Empty DataFrame\n",
       "Columns: [HSolar, Tank, HP, Cons]\n",
       "Index: []"
      ]
     },
     "execution_count": 190,
     "metadata": {},
     "output_type": "execute_result"
    }
   ],
   "source": [
    "mat"
   ]
  },
  {
   "cell_type": "code",
   "execution_count": null,
   "metadata": {},
   "outputs": [],
   "source": []
  },
  {
   "cell_type": "code",
   "execution_count": 186,
   "metadata": {},
   "outputs": [
    {
     "data": {
      "text/html": [
       "<div>\n",
       "<style scoped>\n",
       "    .dataframe tbody tr th:only-of-type {\n",
       "        vertical-align: middle;\n",
       "    }\n",
       "\n",
       "    .dataframe tbody tr th {\n",
       "        vertical-align: top;\n",
       "    }\n",
       "\n",
       "    .dataframe thead th {\n",
       "        text-align: right;\n",
       "    }\n",
       "</style>\n",
       "<table border=\"1\" class=\"dataframe\">\n",
       "  <thead>\n",
       "    <tr style=\"text-align: right;\">\n",
       "      <th></th>\n",
       "      <th>HSolar</th>\n",
       "      <th>Tank</th>\n",
       "      <th>HP</th>\n",
       "      <th>Cons</th>\n",
       "      <th>Sav</th>\n",
       "    </tr>\n",
       "  </thead>\n",
       "  <tbody>\n",
       "    <tr>\n",
       "      <th>0</th>\n",
       "      <td>0.0</td>\n",
       "      <td>0.0</td>\n",
       "      <td>0.0</td>\n",
       "      <td>15586.85</td>\n",
       "      <td>0.00</td>\n",
       "    </tr>\n",
       "    <tr>\n",
       "      <th>1</th>\n",
       "      <td>1.0</td>\n",
       "      <td>0.0</td>\n",
       "      <td>0.0</td>\n",
       "      <td>14685.80</td>\n",
       "      <td>901.05</td>\n",
       "    </tr>\n",
       "    <tr>\n",
       "      <th>2</th>\n",
       "      <td>0.0</td>\n",
       "      <td>1.0</td>\n",
       "      <td>0.0</td>\n",
       "      <td>15586.85</td>\n",
       "      <td>0.00</td>\n",
       "    </tr>\n",
       "    <tr>\n",
       "      <th>3</th>\n",
       "      <td>0.0</td>\n",
       "      <td>0.0</td>\n",
       "      <td>1.0</td>\n",
       "      <td>11417.97</td>\n",
       "      <td>4168.88</td>\n",
       "    </tr>\n",
       "    <tr>\n",
       "      <th>4</th>\n",
       "      <td>1.0</td>\n",
       "      <td>1.0</td>\n",
       "      <td>0.0</td>\n",
       "      <td>14670.81</td>\n",
       "      <td>916.04</td>\n",
       "    </tr>\n",
       "    <tr>\n",
       "      <th>5</th>\n",
       "      <td>1.0</td>\n",
       "      <td>0.0</td>\n",
       "      <td>1.0</td>\n",
       "      <td>11188.77</td>\n",
       "      <td>4398.08</td>\n",
       "    </tr>\n",
       "    <tr>\n",
       "      <th>6</th>\n",
       "      <td>0.0</td>\n",
       "      <td>1.0</td>\n",
       "      <td>1.0</td>\n",
       "      <td>11417.97</td>\n",
       "      <td>4168.88</td>\n",
       "    </tr>\n",
       "    <tr>\n",
       "      <th>7</th>\n",
       "      <td>1.0</td>\n",
       "      <td>1.0</td>\n",
       "      <td>1.0</td>\n",
       "      <td>11185.47</td>\n",
       "      <td>4401.39</td>\n",
       "    </tr>\n",
       "  </tbody>\n",
       "</table>\n",
       "</div>"
      ],
      "text/plain": [
       "   HSolar  Tank   HP      Cons      Sav\n",
       "0     0.0   0.0  0.0  15586.85     0.00\n",
       "1     1.0   0.0  0.0  14685.80   901.05\n",
       "2     0.0   1.0  0.0  15586.85     0.00\n",
       "3     0.0   0.0  1.0  11417.97  4168.88\n",
       "4     1.0   1.0  0.0  14670.81   916.04\n",
       "5     1.0   0.0  1.0  11188.77  4398.08\n",
       "6     0.0   1.0  1.0  11417.97  4168.88\n",
       "7     1.0   1.0  1.0  11185.47  4401.39"
      ]
     },
     "execution_count": 186,
     "metadata": {},
     "output_type": "execute_result"
    }
   ],
   "source": [
    "i=0\n",
    "for dl in devcombos:\n",
    "    # Run BAU\n",
    "    ba.apply(df)\n",
    "\n",
    "    # Populate the \"which devices ran\" cells\n",
    "    mat.loc[i,:]=0\n",
    "    for d in dl:\n",
    "        n = type(d).__name__\n",
    "        mat.loc[i,n]=1\n",
    "    \n",
    "        # Actually run those devices\n",
    "        d.apply(df)\n",
    "    \n",
    "    # Run the Boiler, set consumption\n",
    "    bo.apply(df)\n",
    "    mat.loc[i,'Cons'] = df.cons.sum()\n",
    "    mat.loc[i,'Sav'] = df.bcons.sum() - df.cons.sum()\n",
    "    i=i+1\n",
    "        \n",
    "mat        \n",
    "    \n",
    "\n"
   ]
  },
  {
   "cell_type": "code",
   "execution_count": 192,
   "metadata": {},
   "outputs": [
    {
     "data": {
      "text/html": [
       "<div>\n",
       "<style scoped>\n",
       "    .dataframe tbody tr th:only-of-type {\n",
       "        vertical-align: middle;\n",
       "    }\n",
       "\n",
       "    .dataframe tbody tr th {\n",
       "        vertical-align: top;\n",
       "    }\n",
       "\n",
       "    .dataframe thead th {\n",
       "        text-align: right;\n",
       "    }\n",
       "</style>\n",
       "<table border=\"1\" class=\"dataframe\">\n",
       "  <thead>\n",
       "    <tr style=\"text-align: right;\">\n",
       "      <th></th>\n",
       "      <th>HSolar</th>\n",
       "      <th>Tank</th>\n",
       "      <th>HP</th>\n",
       "      <th>Cons</th>\n",
       "    </tr>\n",
       "  </thead>\n",
       "  <tbody>\n",
       "  </tbody>\n",
       "</table>\n",
       "</div>"
      ],
      "text/plain": [
       "Empty DataFrame\n",
       "Columns: [HSolar, Tank, HP, Cons]\n",
       "Index: []"
      ]
     },
     "execution_count": 192,
     "metadata": {},
     "output_type": "execute_result"
    }
   ],
   "source": [
    "mat"
   ]
  }
 ],
 "metadata": {
  "kernelspec": {
   "display_name": "Python 3",
   "language": "python",
   "name": "python3"
  },
  "language_info": {
   "codemirror_mode": {
    "name": "ipython",
    "version": 3
   },
   "file_extension": ".py",
   "mimetype": "text/x-python",
   "name": "python",
   "nbconvert_exporter": "python",
   "pygments_lexer": "ipython3",
   "version": "3.6.4"
  }
 },
 "nbformat": 4,
 "nbformat_minor": 2
}
