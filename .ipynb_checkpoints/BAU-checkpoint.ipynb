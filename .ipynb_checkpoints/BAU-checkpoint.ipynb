{
 "cells": [
  {
   "cell_type": "code",
   "execution_count": 82,
   "metadata": {},
   "outputs": [],
   "source": [
    "from IPython.display import display, HTML\n",
    "from IPython.core.interactiveshell import InteractiveShell\n",
    "InteractiveShell.ast_node_interactivity = \"all\"\n",
    "#InteractiveShell.ast_node_interactivity = \"last\"\n",
    "#%load_ext autoreload\n",
    "%autoreload 2\n",
    "import pandas as pd\n",
    "pd.set_option(\"display.precision\",2)"
   ]
  },
  {
   "cell_type": "markdown",
   "metadata": {},
   "source": [
    "# BAU - Business As Usual\n",
    "The BAU model is very simple: RT and RTSP are constantly at 22C.  Heating load is calculated from OAT by using the previously calculated heating model.\n",
    "\n",
    "Inputs: \n",
    "  - Target year\n",
    "  - A dataframe with a source of OAT\n",
    "  \n",
    "Output Dataframe: \n",
    "  - all house-state columns added\n",
    "  - hload added\n",
    "  - rload added = hload\n",
    "  "
   ]
  },
  {
   "cell_type": "code",
   "execution_count": 81,
   "metadata": {},
   "outputs": [],
   "source": [
    "import bau\n",
    "#dfIn = pd.read_pickle('wxhydro2018.pickle')[['OAT',']]\n",
    "dfIn = pd.read_pickle('irradiance2014.pickle')[['OAT']]\n",
    "df = bau.doBAU(dfIn,2013)\n",
    "df.to_pickle('bau.pickle')"
   ]
  }
 ],
 "metadata": {
  "kernelspec": {
   "display_name": "Python 3",
   "language": "python",
   "name": "python3"
  },
  "language_info": {
   "codemirror_mode": {
    "name": "ipython",
    "version": 3
   },
   "file_extension": ".py",
   "mimetype": "text/x-python",
   "name": "python",
   "nbconvert_exporter": "python",
   "pygments_lexer": "ipython3",
   "version": "3.6.4"
  }
 },
 "nbformat": 4,
 "nbformat_minor": 2
}
