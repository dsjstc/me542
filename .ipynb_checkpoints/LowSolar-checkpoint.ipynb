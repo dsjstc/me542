{
 "cells": [
  {
   "cell_type": "code",
   "execution_count": 1,
   "metadata": {},
   "outputs": [],
   "source": [
    "from IPython.display import display, HTML\n",
    "from IPython.core.interactiveshell import InteractiveShell\n",
    "InteractiveShell.ast_node_interactivity = \"all\""
   ]
  },
  {
   "cell_type": "code",
   "execution_count": 5,
   "metadata": {},
   "outputs": [],
   "source": [
    "# Load inputs\n",
    "import pandas as pd\n",
    "#dfIn = pd.read_pickle(\"bau.pickle\")\n",
    "#wx = pd.read_pickle(\"wx.pickle\")\n",
    "#dfIn.merge(wx,how='outer',left_index=True,right_index=True)\n",
    "\n",
    "df = pd.read_pickle(\"../irradiance/irradiance.pickle\")['2014']"
   ]
  },
  {
   "cell_type": "markdown",
   "metadata": {},
   "source": [
    "## Low-Efficiency Solar -- HDPE coil\n",
    "\n",
    "This is a common way to heat swimming pools.  Unfortunately, it's not safe to glaze the HDPE, because it can easily reach the plastic's softening (or even melting!) temperature, resulting in leaks at the joints.  This means its efficiency will be very poor at low OAT.\n",
    "\n",
    "There is very little data available on the performance of these systems.  I was lucky enough to find [this blog entry with measurements](https://rimstar.org/renewnrg/solar_pool_heater_diy_fp.htm#EFFICIENCY_CALC), for exactly the kind of coil I had in mind.  The measured results were:\n",
    "\n",
    "  - OAT: 19C\n",
    "  - Inlet T: 14.1C\n",
    "  - Outlet T: 15.4\n",
    "  - Flow: 8.7 L/min\n",
    "\n",
    "This results in a measured efficiency of 79% at $\\Delta T = (14.1+15.4)/2 - 19 = -4.25C$.  With no data point for a higher $\\Delta T$, all we can do is assume a similar efficiency slope as for an unglazed collector, at 1.07 %/degC.  Putting efficiency into the same y=mx+b form as for the other collectors, we find \n",
    "\n",
    "$\\eta = 75\\% - 1.07\\Delta T$\n",
    "\n",
    "### Comments on design:\n",
    "\n",
    "  - if using water, cannot tolerate freezing\n",
    "  - Fixed orientation -- loses efficacy for both sun elevation and azimuth\n",
    "\n",
    "### Model issues:\n",
    "  - Unglazed, so convection losses will be high.  Should account for wind.\n",
    "  - Any failure could result in overheating and melting of pipe\n",
    "  - \n",
    "\n",
    "  \n",
    "![coil]\n",
    "Here's an image URL: https://rimstar.org/renewnrg/solar_pool_heater_diy_fp/solar_pool_heater_diy_photo4.jpg\n",
    "\n"
   ]
  },
  {
   "cell_type": "code",
   "execution_count": 6,
   "metadata": {},
   "outputs": [],
   "source": [
    "import numpy as np\n",
    "#\n",
    "TUBEAREA = 3.13 * 2\n",
    "def vacEff(DT):\n",
    "    if( DT < 0): DT=0\n",
    "    eff = float(53.0 - 0.12 * DT)/100\n",
    "    if eff<0: eff = 0\n",
    "    return eff\n",
    "\n",
    "# Efficiency\n",
    "df['dt'] = 32.5 - df.OAT\n",
    "df['soleff'] = df.dt.apply(vacEff)"
   ]
  },
  {
   "cell_type": "code",
   "execution_count": null,
   "metadata": {},
   "outputs": [],
   "source": []
  }
 ],
 "metadata": {
  "kernelspec": {
   "display_name": "Python 3",
   "language": "python",
   "name": "python3"
  },
  "language_info": {
   "codemirror_mode": {
    "name": "ipython",
    "version": 3
   },
   "file_extension": ".py",
   "mimetype": "text/x-python",
   "name": "python",
   "nbconvert_exporter": "python",
   "pygments_lexer": "ipython3",
   "version": "3.6.4"
  }
 },
 "nbformat": 4,
 "nbformat_minor": 2
}
