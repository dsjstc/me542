{
 "cells": [
  {
   "cell_type": "code",
   "execution_count": 2,
   "metadata": {},
   "outputs": [],
   "source": [
    "from IPython.display import display, HTML\n",
    "from IPython.core.interactiveshell import InteractiveShell\n",
    "InteractiveShell.ast_node_interactivity = \"all\"\n",
    "#InteractiveShell.ast_node_interactivity = \"last\""
   ]
  },
  {
   "cell_type": "code",
   "execution_count": 3,
   "metadata": {},
   "outputs": [],
   "source": [
    "# Load inputs\n",
    "import pandas as pd\n",
    "df = pd.read_pickle(\"bau.pickle\")\n",
    "\n",
    "# Already have OAT, no need for wx.\n",
    "#wx = pd.read_pickle(\"wxhydro2018.pickle\")\n",
    "#df = dfIn.merge(wx,how='outer',left_index=True,right_index=True)\n",
    "#df = pd.DataFrame(df[df['OAT']<16]['OAT'].dropna())\n",
    "#df.describe()"
   ]
  },
  {
   "cell_type": "markdown",
   "metadata": {},
   "source": [
    "# Introduction"
   ]
  },
  {
   "cell_type": "markdown",
   "metadata": {},
   "source": [
    "### Programmable Stat\n",
    "My house is occupied 24/7, but everyone sleeps on the same schedule, so we could consider implementing a night setback program.  NSB in a fancy commercial BAS builds a lookup table so it know's each zone's thermal response speed to temperature perturbations, but most residential programmable stats only let you modify the RTSP on a schedule.\n",
    "\n",
    "The hard way to estimate savings from a reduction in interior temperature is to model the heating system's behaviour.  It's hard because it requires a solid heat transfer model of the entire house, including ventilation, to carefully determine the heat loss, solving the differential equations to account for the exponential decay in transfer rates as temperatures approach steady state, and then trying to figure out how the heating system will compensate.\n",
    "\n",
    "But fortunately, we already know how much heat is coming through the walls, and for a first-order approximation, heat loss is proportional to the delta-T between inside and outside. Our savings will be the time-weighted change in delta-T that we can produce with scheduling.\n",
    "\n",
    "In my house, if I turn the heat off overnight with the OAT at around 10C, it will cool from 22 to 19 in about 8 hours.  It takes about three hours to warm back up from 18 no matter what the OAT.  \n",
    "\n",
    "Applying Newton's law of cooling $T(t)=OAT+(RT-OAT)e^{-kt}$, we find \n",
    "\n",
    "\\begin{align*}\n",
    "T(8)=19 & =10+12e^{-8k}\\\\\n",
    "ln(\\frac{9}{12}) & =-8k\\\\\n",
    "k & =0.036\\\\\n",
    "\\end{align*}\n",
    "\n",
    "Heating dominates over losses, so the warmup rate is quite linear:\n",
    "\n",
    "$$WARMUP\\:RATE = 0.5\\frac{^{\\circ}C}{hr}$$\n",
    "\n",
    "Bedtime's around 10PM and reveille around 7AM, so let's use a NSB schedule of 8PM-4AM.  We can tolerate things cooling off a bit just before bedtime, and the 4AM start guarantees that we'll have hit our \"occupied\" RTSP by 7AM on all but very cold nights."
   ]
  },
  {
   "cell_type": "markdown",
   "metadata": {},
   "source": []
  },
  {
   "cell_type": "code",
   "execution_count": 4,
   "metadata": {},
   "outputs": [],
   "source": [
    "# RTSP = 22 Occupied, 18 Night\n",
    "#df = pd.DataFrame(bau['20170901':'20180301']['OAT'].dropna())\n",
    "df.loc[(df.index.hour>=4)&(df.index.hour<20),'nrtsp']=22\n",
    "df.loc[(df.index.hour<4)|(df.index.hour>=20),'nrtsp']=18"
   ]
  },
  {
   "cell_type": "code",
   "execution_count": 5,
   "metadata": {},
   "outputs": [],
   "source": [
    "import numpy as np\n",
    "WARMRATE=0.5\n",
    "# First we'll calculate the hourly RT for NSB: nrt\n",
    "df['nrt']=0.0\n",
    "rt=22\n",
    "newtonK=0.036\n",
    "for i,row in df.iterrows():\n",
    "    rtsp = row.nrtsp\n",
    "    delta = float(rtsp-rt)\n",
    "    #print(\"D: %f\"%delta)\n",
    "    if delta > 0:\n",
    "        # increase temperature by delta to a max of 1\n",
    "        if delta > 1: delta = WARMRATE\n",
    "    elif delta < 0:\n",
    "        # newton's law of cooling for T=+1\n",
    "        rt1 = row.OAT + (rt-row.OAT)*np.exp(-newtonK)\n",
    "        CDRATE = rt1-rt\n",
    "        #print(\"CD: %f\"%CDRATE)\n",
    "        if delta < CDRATE: delta = CDRATE\n",
    "    rt = rt + delta\n",
    "    df.nrt.at[i]= rt\n",
    "    #print(\"%d rtsp=%f rt=%f delta=%f oat=%f\" % (i.hour,rtsp,rt,delta,row.OAT))\n",
    "    \n"
   ]
  },
  {
   "cell_type": "code",
   "execution_count": 6,
   "metadata": {},
   "outputs": [
    {
     "name": "stdout",
     "output_type": "stream",
     "text": [
      "Heating savings: 7.61%\n"
     ]
    }
   ],
   "source": [
    "# Now calculate the sum of delta-T for BAU vs NSB (heating only)\n",
    "df['bauhd']=df.rt-df.OAT\n",
    "df.loc[df['bauhd']<0,'bauhd']=0\n",
    "df['nsbhd']=df.nrt-df.OAT\n",
    "df.loc[df['nsbhd']<0,'nsbhd']=0\n",
    "#project savings\n",
    "heatDTsaved = (df.bauhd.sum() - df.nsbhd.sum()) \n",
    "heatfracsaved = heatDTsaved/df.bauhd.sum()\n",
    "print(\"Heating savings: %.2f%%\"%(100*heatfracsaved))\n",
    "#df.nsbhd.describe()\n",
    "#df.bauhd.describe()"
   ]
  },
  {
   "cell_type": "code",
   "execution_count": 7,
   "metadata": {},
   "outputs": [
    {
     "data": {
      "text/plain": [
       "count    8760.000000\n",
       "mean       10.333060\n",
       "std         4.850989\n",
       "min         0.000000\n",
       "25%         6.171439\n",
       "50%        10.998450\n",
       "75%        14.100000\n",
       "max        23.900000\n",
       "Name: nsbhd, dtype: float64"
      ]
     },
     "execution_count": 7,
     "metadata": {},
     "output_type": "execute_result"
    },
    {
     "data": {
      "text/plain": [
       "count    8760.000000\n",
       "mean       11.183767\n",
       "std         5.257502\n",
       "min         0.000000\n",
       "25%         6.500000\n",
       "50%        12.000000\n",
       "75%        15.500000\n",
       "max        25.000000\n",
       "Name: bauhd, dtype: float64"
      ]
     },
     "execution_count": 7,
     "metadata": {},
     "output_type": "execute_result"
    },
    {
     "data": {
      "text/plain": [
       "0.9239337241165206"
      ]
     },
     "execution_count": 7,
     "metadata": {},
     "output_type": "execute_result"
    }
   ],
   "source": [
    "df.nsbhd.describe()\n",
    "df.bauhd.describe()\n",
    "df.nsbhd.sum() / df.bauhd.sum()"
   ]
  },
  {
   "cell_type": "markdown",
   "metadata": {},
   "source": [
    "The following chart illustrates how much more quickly things cool down when it's cold out.  The green squiggle shows the sum of reduced $\\Delta T$ values (RT vs OAT) over two periods of three days, as compared to a constant RT of 22C."
   ]
  },
  {
   "cell_type": "code",
   "execution_count": 13,
   "metadata": {
    "scrolled": true
   },
   "outputs": [
    {
     "data": {
      "text/plain": [
       "Text(0.5,0.98,'Typical NSB HDH Savings')"
      ]
     },
     "execution_count": 13,
     "metadata": {},
     "output_type": "execute_result"
    },
    {
     "data": {
      "text/plain": [
       "<matplotlib.axes._subplots.AxesSubplot at 0x7f3bc50c5240>"
      ]
     },
     "execution_count": 13,
     "metadata": {},
     "output_type": "execute_result"
    },
    {
     "data": {
      "text/plain": [
       "Text(0,0.5,'Degrees C')"
      ]
     },
     "execution_count": 13,
     "metadata": {},
     "output_type": "execute_result"
    },
    {
     "data": {
      "text/plain": [
       "<matplotlib.axes._subplots.AxesSubplot at 0x7f3bc515cd30>"
      ]
     },
     "execution_count": 13,
     "metadata": {},
     "output_type": "execute_result"
    },
    {
     "data": {
      "text/plain": [
       "Text(0,0.5,'Sum of saved degree-hours')"
      ]
     },
     "execution_count": 13,
     "metadata": {},
     "output_type": "execute_result"
    },
    {
     "data": {
      "image/png": "[encoded data removed]",
      "text/plain": [
       "<matplotlib.figure.Figure at 0x7f3bc508da90>"
      ]
     },
     "metadata": {},
     "output_type": "display_data"
    }
   ],
   "source": [
    "import matplotlib.pyplot as plt\n",
    "fig, axes = plt.subplots(nrows=2, ncols=1,figsize=(7,12),sharey=True)\n",
    "fig.suptitle(\"Typical NSB HDH Savings\")\n",
    "\n",
    "dd=pd.DataFrame(df['2013-05-10':'2013-05-13'])\n",
    "dd['SavHDH'] = (dd.rt-dd.nrt).cumsum()\n",
    "a=0\n",
    "\n",
    "tit=\"Warm OAT ~ %d°C\"%dd.OAT.mean()\n",
    "ax=dd[['nrt','OAT','SavHDH']].plot(ax=axes[a],kind='line',title=tit,secondary_y='SavHDH')\n",
    "dd[['nrtsp']].plot(ax=axes[a],kind='line',drawstyle=\"steps-post\",alpha=.3)\n",
    "lines = ax.get_lines() + ax.right_ax.get_lines() # Need to add \"lines\" from right ax to label it.\n",
    "#ax.legend(lines,['RT','OAT','SavHDH','RTSP'])\n",
    "ax.set_ylabel('Degrees C')\n",
    "\n",
    "dd=pd.DataFrame(df['2013-12-6':'2013-12-9'])\n",
    "dd['SavHDH'] = (dd.rt-dd.nrt).cumsum()\n",
    "a=1\n",
    "tit=\"Cold OAT ~ %d°C\"%dd.OAT.mean()\n",
    "ax=dd[['nrt','OAT','SavHDH']].plot(ax=axes[a],kind='line',title=tit,secondary_y='SavHDH')\n",
    "dd[['nrtsp']].plot(ax=axes[a],kind='line',drawstyle=\"steps-post\",alpha=.3)\n",
    "lines = ax.get_lines() + ax.right_ax.get_lines() # Need to add \"lines\" from right ax to label it.\n",
    "#ax.legend(lines,['RT','OAT','SavHDH','RTSP'])\n",
    "ax.right_ax.set_ylabel('Sum of saved degree-hours')\n",
    "\n",
    "plt.show()\n"
   ]
  },
  {
   "cell_type": "markdown",
   "metadata": {},
   "source": [
    "## NSB Hourly Consumption\n",
    "The average annual savings number is nice to know, but what we *really* want to know is the new hourly consumption -- otherwise we have no way of knowing how the NSB will interact with other measures.\n",
    "\n",
    "We can get fairly close with the assumptions we've already made:\n",
    "\n",
    "  - Cooldown: hourly heating load is 0\n",
    "  - Steady state: same as BAU, but with savings proportional to the reduction in $\\Delta T$ vs OAT.\n",
    "  - Total heating savings $BAU \\rightarrow NSB$ are known from the approximation above\n",
    "  - We can now solve for the sum of heating loads during warmup periods\n",
    "    - distribute this sum between all warmup periods\n",
    "    - pro rate such that hours with a fractional warmup get a fractional share.\n",
    "  \n",
    "\\begin{align}\n",
    "\\sum H_{NSB}\t=\\sum H_{BAU}\\times(1-Savings\\sim6.5\\%)\\\\\n",
    "H_{NSB}\t=H_{cooldown}+H_{SS}+H_{warmup}\\\\\n",
    "\\begin{aligned}H_{cool} &=0\\\\\n",
    "H_{SS} & =H_{BAU}\\times\\left(1-\\frac{\\Delta T_{NSB}}{\\Delta T_{BAU}}\\right)\\\\\n",
    "\\end{aligned}\\\\\n",
    "\\sum H_{warmup}\t=\\sum H_{BAU}(0.935)-\\sum H_{SS}\n",
    "\\end{align}\n",
    "\n",
    "Distribute as follows:\n",
    "\n",
    "\\begin{align}\n",
    "\\sum Hours_{warm}=\\sum f(t) \\begin{cases}\n",
    "1 & \\Delta T(t)\\ge1C\\\\\n",
    "\\Delta T(t) & \\Delta T(t)<1C\n",
    "\\end{cases}\\\\\n",
    "H(t)=\\frac{\\sum H}{\\sum Hours} \\times f(t)\\\\\n",
    "\\end{align}\n"
   ]
  },
  {
   "cell_type": "code",
   "execution_count": 9,
   "metadata": {},
   "outputs": [],
   "source": [
    "def saveDT(row):\n",
    "    RTN=row.nrt\n",
    "    RTB=row.rt\n",
    "    OAT=row.OAT\n",
    "    # Computes the fractional reduction in delta T for NSB as compared to BAU\n",
    "    DTN=RTN-OAT\n",
    "    DTB=RTB-OAT\n",
    "    if(DTB<=0): return 0 # There are no savings possible if the BAU DT indicates no heating.\n",
    "    if(DTN<=0): DTN=0 # Best we can do is turn off the heat and save 100%\n",
    "    return (DTB-DTN)/DTB\n",
    "\n",
    "# Categorize periods and calculate new heating load for each period\n",
    "h = df[(df.hload!=0)].dropna()\n",
    "# Set default values for cooling\n",
    "h['cooldown']= h.nrt > h.nrtsp\n",
    "h.loc[h.cooldown,'savefrac'] = 1\n",
    "h.loc[h.cooldown,'nhload'] = 0 \n",
    "\n",
    "#compute savings fraction and hload for the Steady State periods\n",
    "# I think there's an error here.\n",
    "h['ss']= h.nrt == h.nrtsp\n",
    "#h['savefrac'] = \n",
    "h.loc[h.ss,'savefrac']=h[h.ss].apply(saveDT,axis=1)\n",
    "h.loc[h.ss,'nhload']=h[h.ss]['hload'] * (1-h[h.ss]['savefrac'])\n",
    "\n",
    "#now get ready for the warmup rows\n",
    "h['warmup']= h.nrt < h.nrtsp"
   ]
  },
  {
   "cell_type": "code",
   "execution_count": null,
   "metadata": {},
   "outputs": [],
   "source": []
  },
  {
   "cell_type": "code",
   "execution_count": null,
   "metadata": {},
   "outputs": [],
   "source": []
  },
  {
   "cell_type": "code",
   "execution_count": 10,
   "metadata": {},
   "outputs": [
    {
     "data": {
      "text/plain": [
       "0.9188191831627831"
      ]
     },
     "execution_count": 10,
     "metadata": {},
     "output_type": "execute_result"
    }
   ],
   "source": [
    "# calculate the expected total NSB heating load, and the number of hours over which it should be distributed\n",
    "hw = pd.DataFrame(h[h.warmup])\n",
    "\n",
    "# Count the whole and fractional hours where warmup occurs\n",
    "hw['whrs'] = hw.nrtsp - hw.nrt # This is correct where DT<=1\n",
    "hw.loc[hw.whrs>1,'whrs'] = 1 # Because whrs is 1 where DT>1\n",
    "whrs = hw.whrs.sum()\n",
    "\n",
    "# Total Warmup heating is expected NSB total, less expected NSB at SS.\n",
    "expectedHnsb = h.hload.sum() * (1-heatfracsaved) \n",
    "expectedHss = h[h.ss].hload.sum()\n",
    "expectHwarmup = expectedHnsb - expectedHss\n",
    "\n",
    "# Now distribute the warmup load\n",
    "HwarmPerWhr = expectHwarmup / whrs \n",
    "h.loc[hw.index,'nhload'] = (hw.whrs * HwarmPerWhr)\n",
    "\n",
    "# There is an error here:\n",
    "h.nhload.sum() / h.hload.sum()\n"
   ]
  },
  {
   "cell_type": "code",
   "execution_count": 11,
   "metadata": {},
   "outputs": [
    {
     "data": {
      "text/plain": [
       "6369.993951481103"
      ]
     },
     "execution_count": 11,
     "metadata": {},
     "output_type": "execute_result"
    }
   ],
   "source": [
    "# These should match\n",
    "#expectedHss \n",
    "#h.nhload[h.ss].sum()\n",
    "\n",
    "# So should these\n",
    "#expectHwarmup\n",
    "#h.nhload[h.warmup].sum()\n",
    "\n",
    "h.nhload.sum()"
   ]
  },
  {
   "cell_type": "markdown",
   "metadata": {},
   "source": []
  },
  {
   "cell_type": "code",
   "execution_count": 12,
   "metadata": {},
   "outputs": [
    {
     "data": {
      "text/plain": [
       "6932.8047"
      ]
     },
     "execution_count": 12,
     "metadata": {},
     "output_type": "execute_result"
    }
   ],
   "source": [
    "h.hload.sum()"
   ]
  },
  {
   "cell_type": "code",
   "execution_count": null,
   "metadata": {},
   "outputs": [],
   "source": []
  },
  {
   "cell_type": "code",
   "execution_count": null,
   "metadata": {},
   "outputs": [],
   "source": []
  }
 ],
 "metadata": {
  "kernelspec": {
   "display_name": "Python 3",
   "language": "python",
   "name": "python3"
  },
  "language_info": {
   "codemirror_mode": {
    "name": "ipython",
    "version": 3
   },
   "file_extension": ".py",
   "mimetype": "text/x-python",
   "name": "python",
   "nbconvert_exporter": "python",
   "pygments_lexer": "ipython3",
   "version": "3.6.4"
  }
 },
 "nbformat": 4,
 "nbformat_minor": 2
}
